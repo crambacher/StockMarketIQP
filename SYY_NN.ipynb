{
 "cells": [
  {
   "cell_type": "code",
   "execution_count": 11,
   "id": "d69b8cd4-0bb1-4655-ae90-f77c81e08b29",
   "metadata": {},
   "outputs": [
    {
     "name": "stdout",
     "output_type": "stream",
     "text": [
      "Done with load\n",
      "Done with model construction\n",
      "INFO:tensorflow:Assets written to: C:\\Users\\Calvin\\AppData\\Local\\Temp\\tmp0bd149qx\\assets\n",
      "INFO:tensorflow:Assets written to: C:\\Users\\Calvin\\AppData\\Local\\Temp\\tmpqq24vv9f\\assets\n",
      "INFO:tensorflow:Assets written to: C:\\Users\\Calvin\\AppData\\Local\\Temp\\tmpig7dl_i0\\assets\n",
      "INFO:tensorflow:Assets written to: C:\\Users\\Calvin\\AppData\\Local\\Temp\\tmpce0td_76\\assets\n",
      "INFO:tensorflow:Assets written to: C:\\Users\\Calvin\\AppData\\Local\\Temp\\tmp33x0xhlg\\assets\n",
      "INFO:tensorflow:Assets written to: C:\\Users\\Calvin\\AppData\\Local\\Temp\\tmp9yv08ro9\\assets\n",
      "INFO:tensorflow:Assets written to: C:\\Users\\Calvin\\AppData\\Local\\Temp\\tmp41whvoto\\assets\n",
      "INFO:tensorflow:Assets written to: C:\\Users\\Calvin\\AppData\\Local\\Temp\\tmp1uniumnv\\assets\n",
      "INFO:tensorflow:Assets written to: C:\\Users\\Calvin\\AppData\\Local\\Temp\\tmp5fm2u6xh\\assets\n",
      "INFO:tensorflow:Assets written to: C:\\Users\\Calvin\\AppData\\Local\\Temp\\tmpr5m5ne5h\\assets\n",
      "Standardized: -1.05 (5.73) MSE\n",
      "\n",
      "1/1 [==============================] - 0s 66ms/step\n",
      "X=[86.35], Predicted=[-0.00010867]\n"
     ]
    }
   ],
   "source": [
    "from pandas import read_csv\n",
    "from keras.models import Sequential\n",
    "from keras.layers import Dense\n",
    "from numpy import loadtxt, array\n",
    "from scikeras.wrappers import KerasClassifier, KerasRegressor\n",
    "from sklearn.model_selection import cross_val_score\n",
    "from sklearn.model_selection import KFold\n",
    "from sklearn.preprocessing import StandardScaler\n",
    "from sklearn.pipeline import Pipeline\n",
    "from tensorflow.keras.layers import BatchNormalization\n",
    "\n",
    "stock_train = loadtxt(\"SYY_Close_Open_Training.csv\", delimiter=',')\n",
    "X = stock_train[:,0:1]\n",
    "Y = stock_train[:,1]\n",
    "\n",
    "stock_test = loadtxt(\"SYY_Close_Open_Testing.csv\", delimiter=',')\n",
    "x_test = stock_test[:,0:1]\n",
    "y_test = stock_test[:,1]\n",
    "\n",
    "print(\"Done with load\")\n",
    "\n",
    "l_model = Sequential()\n",
    "l_model.add(Dense(50, input_dim=1, kernel_initializer='normal', activation = 'relu'))\n",
    "l_model.add(Dense(27, kernel_initializer='normal', activation='relu'))    \n",
    "l_model.add(Dense(13, kernel_initializer='normal', activation='relu'))\n",
    "l_model.add(Dense(6, kernel_initializer='normal', activation='relu'))\n",
    "l_model.add(Dense(1, kernel_initializer='normal'))\n",
    "\n",
    "l_model.compile(loss='mean_squared_error', optimizer='adam')\n",
    "\n",
    "print(\"Done with model construction\")\n",
    "\n",
    "estimators = []\n",
    "estimators.append(('standardize', StandardScaler()))\n",
    "estimators.append(('mlp', KerasRegressor(model=l_model, epochs=50, batch_size=5, verbose=0)))\n",
    "pipeline = Pipeline(estimators)\n",
    "kfold = KFold(n_splits=10)\n",
    "results = cross_val_score(pipeline, X, Y, cv=kfold)\n",
    "print(\"Standardized: %.2f (%.2f) MSE\" % (results.mean(), results.std()))\n",
    "print(\"\")\n",
    "\n",
    "Xnew = array([[86.35]])\n",
    "ynew = l_model.predict(Xnew)\n",
    "print(\"X=%s, Predicted=%s\" % (Xnew[0], ynew[0]))"
   ]
  },
  {
   "cell_type": "code",
   "execution_count": 12,
   "id": "0fe96902-f2b8-4433-bf7e-e020fd6570d5",
   "metadata": {},
   "outputs": [
    {
     "name": "stdout",
     "output_type": "stream",
     "text": [
      "1/1 [==============================] - 0s 22ms/step\n",
      "X=[88.23], Predicted=[-0.00011104]\n",
      "\n"
     ]
    }
   ],
   "source": [
    "Xnew = array([[88.23]])\n",
    "ynew = l_model.predict(Xnew)\n",
    "print(\"X=%s, Predicted=%s\" % (Xnew[0], ynew[0]))\n",
    "print(\"\")"
   ]
  },
  {
   "cell_type": "code",
   "execution_count": null,
   "id": "dc473598-f06f-4dc5-9b41-f27390e029c1",
   "metadata": {},
   "outputs": [],
   "source": []
  },
  {
   "cell_type": "code",
   "execution_count": null,
   "id": "b1123a0a-a9ef-4eeb-85e9-bc1e93f705e2",
   "metadata": {},
   "outputs": [],
   "source": []
  }
 ],
 "metadata": {
  "kernelspec": {
   "display_name": "Python 3 (ipykernel)",
   "language": "python",
   "name": "python3"
  },
  "language_info": {
   "codemirror_mode": {
    "name": "ipython",
    "version": 3
   },
   "file_extension": ".py",
   "mimetype": "text/x-python",
   "name": "python",
   "nbconvert_exporter": "python",
   "pygments_lexer": "ipython3",
   "version": "3.9.7"
  }
 },
 "nbformat": 4,
 "nbformat_minor": 5
}
