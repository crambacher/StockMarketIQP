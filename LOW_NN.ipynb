{
 "cells": [
  {
   "cell_type": "code",
   "execution_count": 16,
   "id": "a31ad9be-7206-4200-8149-c71655d7dc00",
   "metadata": {},
   "outputs": [
    {
     "name": "stdout",
     "output_type": "stream",
     "text": [
      "Done with load\n",
      "Done with model construction\n",
      "INFO:tensorflow:Assets written to: C:\\Users\\Calvin\\AppData\\Local\\Temp\\tmpshvy08sb\\assets\n",
      "INFO:tensorflow:Assets written to: C:\\Users\\Calvin\\AppData\\Local\\Temp\\tmp492x6dvg\\assets\n",
      "INFO:tensorflow:Assets written to: C:\\Users\\Calvin\\AppData\\Local\\Temp\\tmpko5e0tst\\assets\n",
      "INFO:tensorflow:Assets written to: C:\\Users\\Calvin\\AppData\\Local\\Temp\\tmp1ig2ui4c\\assets\n",
      "INFO:tensorflow:Assets written to: C:\\Users\\Calvin\\AppData\\Local\\Temp\\tmplj0nk9hh\\assets\n",
      "INFO:tensorflow:Assets written to: C:\\Users\\Calvin\\AppData\\Local\\Temp\\tmpevjyx_bo\\assets\n",
      "INFO:tensorflow:Assets written to: C:\\Users\\Calvin\\AppData\\Local\\Temp\\tmpqu4l5lfu\\assets\n",
      "INFO:tensorflow:Assets written to: C:\\Users\\Calvin\\AppData\\Local\\Temp\\tmpnr5oxs7m\\assets\n",
      "INFO:tensorflow:Assets written to: C:\\Users\\Calvin\\AppData\\Local\\Temp\\tmp089zf4br\\assets\n",
      "INFO:tensorflow:Assets written to: C:\\Users\\Calvin\\AppData\\Local\\Temp\\tmpanjg747s\\assets\n",
      "Standardized: 0.88 (0.26) MSE\n",
      "\n"
     ]
    }
   ],
   "source": [
    "from pandas import read_csv\n",
    "from keras.models import Sequential\n",
    "from keras.layers import Dense\n",
    "from numpy import loadtxt, array\n",
    "from scikeras.wrappers import KerasClassifier, KerasRegressor\n",
    "from sklearn.model_selection import cross_val_score\n",
    "from sklearn.model_selection import KFold\n",
    "from sklearn.preprocessing import StandardScaler\n",
    "from sklearn.pipeline import Pipeline\n",
    "from tensorflow.keras.layers import BatchNormalization\n",
    "\n",
    "stock_train = loadtxt(\"LOW_Close_Open_Training.csv\", delimiter=',')\n",
    "X = stock_train[:,0:1]\n",
    "Y = stock_train[:,1]\n",
    "\n",
    "stock_test = loadtxt(\"LOW_Close_Open_Testing.csv\", delimiter=',')\n",
    "x_test = stock_test[:,0:1]\n",
    "y_test = stock_test[:,1]\n",
    "\n",
    "print(\"Done with load\")\n",
    "\n",
    "l_model = Sequential()\n",
    "l_model.add(Dense(50, input_dim=1, kernel_initializer='normal', activation = 'relu'))\n",
    "l_model.add(Dense(27, kernel_initializer='normal', activation='relu'))    \n",
    "l_model.add(Dense(13, kernel_initializer='normal', activation='relu'))\n",
    "l_model.add(Dense(6, kernel_initializer='normal', activation='relu'))\n",
    "l_model.add(Dense(1, kernel_initializer='normal'))\n",
    "\n",
    "l_model.compile(loss='mean_squared_error', optimizer='adam')\n",
    "\n",
    "print(\"Done with model construction\")\n",
    "\n",
    "estimators = []\n",
    "estimators.append(('standardize', StandardScaler()))\n",
    "estimators.append(('mlp', KerasRegressor(model=l_model, epochs=50, batch_size=5, verbose=0)))\n",
    "pipeline = Pipeline(estimators)\n",
    "kfold = KFold(n_splits=10)\n",
    "results = cross_val_score(pipeline, X, Y, cv=kfold)\n",
    "print(\"Standardized: %.2f (%.2f) MSE\" % (results.mean(), results.std()))\n",
    "print(\"\")"
   ]
  },
  {
   "cell_type": "code",
   "execution_count": 17,
   "id": "ab608f7f-6904-4aa1-a5ea-da84e91add9c",
   "metadata": {},
   "outputs": [
    {
     "name": "stdout",
     "output_type": "stream",
     "text": [
      "\n",
      "1/1 [==============================] - 0s 127ms/step\n",
      "X=[190.99], Predicted=[0.0007424]\n",
      "\n"
     ]
    }
   ],
   "source": [
    "print(\"\")\n",
    "\n",
    "Xnew = array([[190.99]])\n",
    "ynew = l_model.predict(Xnew)\n",
    "print(\"X=%s, Predicted=%s\" % (Xnew[0], ynew[0]))\n",
    "print(\"\")"
   ]
  },
  {
   "cell_type": "code",
   "execution_count": null,
   "id": "2400bc9f-16c7-4a35-9aa9-c5b3cf05f772",
   "metadata": {},
   "outputs": [],
   "source": []
  },
  {
   "cell_type": "code",
   "execution_count": null,
   "id": "52a26e58-d089-4a66-8b06-2fe99a0e713f",
   "metadata": {},
   "outputs": [],
   "source": []
  }
 ],
 "metadata": {
  "kernelspec": {
   "display_name": "Python 3 (ipykernel)",
   "language": "python",
   "name": "python3"
  },
  "language_info": {
   "codemirror_mode": {
    "name": "ipython",
    "version": 3
   },
   "file_extension": ".py",
   "mimetype": "text/x-python",
   "name": "python",
   "nbconvert_exporter": "python",
   "pygments_lexer": "ipython3",
   "version": "3.9.7"
  }
 },
 "nbformat": 4,
 "nbformat_minor": 5
}
