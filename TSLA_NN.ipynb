{
 "cells": [
  {
   "cell_type": "code",
   "execution_count": 11,
   "id": "180a16e1-731d-4915-a9ee-aba5f05df172",
   "metadata": {},
   "outputs": [
    {
     "name": "stdout",
     "output_type": "stream",
     "text": [
      "Done with load\n",
      "Done with model construction\n",
      "INFO:tensorflow:Assets written to: C:\\Users\\Calvin\\AppData\\Local\\Temp\\tmpswvv6ni1\\assets\n",
      "INFO:tensorflow:Assets written to: C:\\Users\\Calvin\\AppData\\Local\\Temp\\tmphfkh0id2\\assets\n",
      "INFO:tensorflow:Assets written to: C:\\Users\\Calvin\\AppData\\Local\\Temp\\tmprzxmmuxs\\assets\n",
      "INFO:tensorflow:Assets written to: C:\\Users\\Calvin\\AppData\\Local\\Temp\\tmpdh27lmmr\\assets\n",
      "INFO:tensorflow:Assets written to: C:\\Users\\Calvin\\AppData\\Local\\Temp\\tmpmrglpb8e\\assets\n",
      "INFO:tensorflow:Assets written to: C:\\Users\\Calvin\\AppData\\Local\\Temp\\tmpmfwmff7h\\assets\n",
      "INFO:tensorflow:Assets written to: C:\\Users\\Calvin\\AppData\\Local\\Temp\\tmp0e4d3huy\\assets\n",
      "INFO:tensorflow:Assets written to: C:\\Users\\Calvin\\AppData\\Local\\Temp\\tmpjacn88tw\\assets\n",
      "INFO:tensorflow:Assets written to: C:\\Users\\Calvin\\AppData\\Local\\Temp\\tmp6vqoekkl\\assets\n",
      "INFO:tensorflow:Assets written to: C:\\Users\\Calvin\\AppData\\Local\\Temp\\tmpy857q8oe\\assets\n",
      "Standardized: -0.04 (2.95) MSE\n",
      "\n"
     ]
    }
   ],
   "source": [
    "from pandas import read_csv\n",
    "from keras.models import Sequential\n",
    "from keras.layers import Dense\n",
    "from numpy import loadtxt, array\n",
    "from scikeras.wrappers import KerasClassifier, KerasRegressor\n",
    "from sklearn.model_selection import cross_val_score\n",
    "from sklearn.model_selection import KFold\n",
    "from sklearn.preprocessing import StandardScaler\n",
    "from sklearn.pipeline import Pipeline\n",
    "from tensorflow.keras.layers import BatchNormalization\n",
    "\n",
    "stock_train = loadtxt(\"TSLA_Close_Open_Training.csv\", delimiter=',')\n",
    "X = stock_train[:,0:1]\n",
    "Y = stock_train[:,1]\n",
    "\n",
    "stock_test = loadtxt(\"TSLA_Close_Open_Testing.csv\", delimiter=',')\n",
    "x_test = stock_test[:,0:1]\n",
    "y_test = stock_test[:,1]\n",
    "\n",
    "print(\"Done with load\")\n",
    "\n",
    "l_model = Sequential()\n",
    "l_model.add(Dense(50, input_dim=1, kernel_initializer='normal', activation = 'relu'))\n",
    "l_model.add(Dense(27, kernel_initializer='normal', activation='relu'))    \n",
    "l_model.add(Dense(13, kernel_initializer='normal', activation='relu'))\n",
    "l_model.add(Dense(6, kernel_initializer='normal', activation='relu'))\n",
    "l_model.add(Dense(1, kernel_initializer='normal'))\n",
    "\n",
    "l_model.compile(loss='mean_squared_error', optimizer='adam')\n",
    "\n",
    "print(\"Done with model construction\")\n",
    "\n",
    "estimators = []\n",
    "estimators.append(('standardize', StandardScaler()))\n",
    "estimators.append(('mlp', KerasRegressor(model=l_model, epochs=50, batch_size=5, verbose=0)))\n",
    "pipeline = Pipeline(estimators)\n",
    "kfold = KFold(n_splits=10)\n",
    "results = cross_val_score(pipeline, X, Y, cv=kfold)\n",
    "print(\"Standardized: %.2f (%.2f) MSE\" % (results.mean(), results.std()))\n",
    "print(\"\")\n"
   ]
  },
  {
   "cell_type": "code",
   "execution_count": 12,
   "id": "f8c62d2d-3193-4385-854c-8ea9378636b2",
   "metadata": {},
   "outputs": [
    {
     "name": "stdout",
     "output_type": "stream",
     "text": [
      "1/1 [==============================] - 0s 103ms/step\n",
      "X=[736.59], Predicted=[-0.01840184]\n",
      "\n",
      "1/1 [==============================] - 0s 29ms/step\n",
      "X=[815.12], Predicted=[-0.02036371]\n"
     ]
    }
   ],
   "source": [
    "Xnew = array([[736.59]])\n",
    "ynew = l_model.predict(Xnew)\n",
    "print(\"X=%s, Predicted=%s\" % (Xnew[0], ynew[0]))\n",
    "print(\"\")\n",
    "Xnew = array([[815.12]])\n",
    "ynew = l_model.predict(Xnew)\n",
    "print(\"X=%s, Predicted=%s\" % (Xnew[0], ynew[0]))"
   ]
  },
  {
   "cell_type": "code",
   "execution_count": null,
   "id": "2ac6b06a-72f6-406d-a289-41d7c001db3d",
   "metadata": {},
   "outputs": [],
   "source": []
  },
  {
   "cell_type": "code",
   "execution_count": null,
   "id": "68caef44-65bc-4192-b353-a73a6b206c11",
   "metadata": {},
   "outputs": [],
   "source": []
  }
 ],
 "metadata": {
  "kernelspec": {
   "display_name": "Python 3 (ipykernel)",
   "language": "python",
   "name": "python3"
  },
  "language_info": {
   "codemirror_mode": {
    "name": "ipython",
    "version": 3
   },
   "file_extension": ".py",
   "mimetype": "text/x-python",
   "name": "python",
   "nbconvert_exporter": "python",
   "pygments_lexer": "ipython3",
   "version": "3.9.7"
  }
 },
 "nbformat": 4,
 "nbformat_minor": 5
}
