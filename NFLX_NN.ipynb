{
 "cells": [
  {
   "cell_type": "code",
   "execution_count": 11,
   "id": "7d57b72a-27e0-4f27-af8b-aecfbdec3cdf",
   "metadata": {},
   "outputs": [
    {
     "name": "stdout",
     "output_type": "stream",
     "text": [
      "Done with load\n",
      "Done with model construction\n",
      "INFO:tensorflow:Assets written to: C:\\Users\\Calvin\\AppData\\Local\\Temp\\tmpdhmeu288\\assets\n",
      "INFO:tensorflow:Assets written to: C:\\Users\\Calvin\\AppData\\Local\\Temp\\tmp_rbqo8sp\\assets\n",
      "INFO:tensorflow:Assets written to: C:\\Users\\Calvin\\AppData\\Local\\Temp\\tmpzyf5voqt\\assets\n",
      "INFO:tensorflow:Assets written to: C:\\Users\\Calvin\\AppData\\Local\\Temp\\tmp46clwhgm\\assets\n",
      "INFO:tensorflow:Assets written to: C:\\Users\\Calvin\\AppData\\Local\\Temp\\tmp7aeswn5p\\assets\n",
      "INFO:tensorflow:Assets written to: C:\\Users\\Calvin\\AppData\\Local\\Temp\\tmpf5202mo7\\assets\n",
      "INFO:tensorflow:Assets written to: C:\\Users\\Calvin\\AppData\\Local\\Temp\\tmp0xhc_ldm\\assets\n",
      "INFO:tensorflow:Assets written to: C:\\Users\\Calvin\\AppData\\Local\\Temp\\tmp5fuxjytr\\assets\n",
      "INFO:tensorflow:Assets written to: C:\\Users\\Calvin\\AppData\\Local\\Temp\\tmplbzkv_te\\assets\n",
      "INFO:tensorflow:Assets written to: C:\\Users\\Calvin\\AppData\\Local\\Temp\\tmp3avafqlg\\assets\n",
      "Standardized: 0.95 (0.07) MSE\n",
      "\n"
     ]
    }
   ],
   "source": [
    "from pandas import read_csv\n",
    "from keras.models import Sequential\n",
    "from keras.layers import Dense\n",
    "from numpy import loadtxt, array\n",
    "from scikeras.wrappers import KerasClassifier, KerasRegressor\n",
    "from sklearn.model_selection import cross_val_score\n",
    "from sklearn.model_selection import KFold\n",
    "from sklearn.preprocessing import StandardScaler\n",
    "from sklearn.pipeline import Pipeline\n",
    "from tensorflow.keras.layers import BatchNormalization\n",
    "\n",
    "stock_train = loadtxt(\"NFLX_Close_Open_Training.csv\", delimiter=',')\n",
    "X = stock_train[:,0:1]\n",
    "Y = stock_train[:,1]\n",
    "\n",
    "stock_test = loadtxt(\"NFLX_Close_Open_Testing.csv\", delimiter=',')\n",
    "x_test = stock_test[:,0:1]\n",
    "y_test = stock_test[:,1]\n",
    "\n",
    "print(\"Done with load\")\n",
    "\n",
    "l_model = Sequential()\n",
    "l_model.add(Dense(50, input_dim=1, kernel_initializer='normal', activation = 'relu'))\n",
    "l_model.add(Dense(27, kernel_initializer='normal', activation='relu'))    \n",
    "l_model.add(Dense(13, kernel_initializer='normal', activation='relu'))\n",
    "l_model.add(Dense(6, kernel_initializer='normal', activation='relu'))\n",
    "l_model.add(Dense(1, kernel_initializer='normal'))\n",
    "\n",
    "l_model.compile(loss='mean_squared_error', optimizer='adam')\n",
    "\n",
    "print(\"Done with model construction\")\n",
    "\n",
    "estimators = []\n",
    "estimators.append(('standardize', StandardScaler()))\n",
    "estimators.append(('mlp', KerasRegressor(model=l_model, epochs=50, batch_size=5, verbose=0)))\n",
    "pipeline = Pipeline(estimators)\n",
    "kfold = KFold(n_splits=10)\n",
    "results = cross_val_score(pipeline, X, Y, cv=kfold)\n",
    "print(\"Standardized: %.2f (%.2f) MSE\" % (results.mean(), results.std()))\n",
    "print(\"\")\n"
   ]
  },
  {
   "cell_type": "code",
   "execution_count": 12,
   "id": "01905fad-b8ea-4754-ab54-16f68f8564c8",
   "metadata": {},
   "outputs": [
    {
     "name": "stdout",
     "output_type": "stream",
     "text": [
      "1/1 [==============================] - 0s 108ms/step\n",
      "X=[189.11], Predicted=[-0.0002033]\n",
      "\n",
      "1/1 [==============================] - 0s 29ms/step\n",
      "X=[174.45], Predicted=[-0.00018754]\n",
      "\n",
      "1/1 [==============================] - 0s 30ms/step\n",
      "X=[114.33], Predicted=[-0.00012291]\n",
      "\n",
      "1/1 [==============================] - 0s 27ms/step\n",
      "X=[223.38], Predicted=[-0.00024014]\n",
      "\n"
     ]
    }
   ],
   "source": [
    "Xnew = array([[189.11]])\n",
    "ynew = l_model.predict(Xnew)\n",
    "print(\"X=%s, Predicted=%s\" % (Xnew[0], ynew[0]))\n",
    "print(\"\")\n",
    "Xnew = array([[174.45]])\n",
    "ynew = l_model.predict(Xnew)\n",
    "print(\"X=%s, Predicted=%s\" % (Xnew[0], ynew[0]))\n",
    "print(\"\")\n",
    "Xnew = array([[114.33]])\n",
    "ynew = l_model.predict(Xnew)\n",
    "print(\"X=%s, Predicted=%s\" % (Xnew[0], ynew[0]))\n",
    "print(\"\")\n",
    "Xnew = array([[223.38]])\n",
    "ynew = l_model.predict(Xnew)\n",
    "print(\"X=%s, Predicted=%s\" % (Xnew[0], ynew[0]))\n",
    "print(\"\")"
   ]
  },
  {
   "cell_type": "code",
   "execution_count": null,
   "id": "3df55c61-3735-48a3-a755-fcf927ae4719",
   "metadata": {},
   "outputs": [],
   "source": []
  },
  {
   "cell_type": "code",
   "execution_count": null,
   "id": "57991a8d-b2b3-4be4-8c04-0b2233711519",
   "metadata": {},
   "outputs": [],
   "source": []
  }
 ],
 "metadata": {
  "kernelspec": {
   "display_name": "Python 3 (ipykernel)",
   "language": "python",
   "name": "python3"
  },
  "language_info": {
   "codemirror_mode": {
    "name": "ipython",
    "version": 3
   },
   "file_extension": ".py",
   "mimetype": "text/x-python",
   "name": "python",
   "nbconvert_exporter": "python",
   "pygments_lexer": "ipython3",
   "version": "3.9.7"
  }
 },
 "nbformat": 4,
 "nbformat_minor": 5
}
